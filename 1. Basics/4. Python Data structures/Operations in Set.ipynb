{
 "cells": [
  {
   "cell_type": "markdown",
   "metadata": {},
   "source": [
    "### Sets can be used to carry out mathematical set operations like:\n",
    "1. Union,\n",
    "2. Intersection,\n",
    "3. Differnece &\n",
    "4. Symmentric differnece."
   ]
  },
  {
   "cell_type": "markdown",
   "metadata": {},
   "source": [
    "### 1. Set Union\n",
    "1. `|` operator\n",
    "2. `union()` method"
   ]
  },
  {
   "cell_type": "code",
   "execution_count": 1,
   "metadata": {},
   "outputs": [],
   "source": [
    "# defining two sets and performing set union\n",
    "A = {1, 2, 5, 6, 36, 234}\n",
    "B = {1, 36, 6, 200, 99, 100}\n",
    "\n",
    "print(A|B)\n",
    "print(A.union(B))\n",
    "print(B|A)\n",
    "print(B.union(A))"
   ]
  },
  {
   "cell_type": "markdown",
   "metadata": {},
   "source": [
    "### 2. Set Intersection\n",
    "The *Intersection* of 2 sets is the set of elements that are present in both the sets. *Set intersection* can be performed using 2 ways:\n",
    "1. `&` operation,\n",
    "2. `intersection()` method."
   ]
  },
  {
   "cell_type": "code",
   "execution_count": 2,
   "metadata": {},
   "outputs": [],
   "source": [
    "print(A&B)\n",
    "print(A.intersection(B))\n",
    "print(B&A)\n",
    "print(B.intersection(A))"
   ]
  },
  {
   "cell_type": "markdown",
   "metadata": {},
   "source": [
    "### 3. Set Difference\n",
    "The difference of set **B** from the set **A** (*Which we write as* **A - B** ) is the set of elements that are only in **A** but not in **B**. The *differnce* is performed using two ways:\n",
    "1. `-`,\n",
    "2. `difference()` method."
   ]
  },
  {
   "cell_type": "code",
   "execution_count": 3,
   "metadata": {},
   "outputs": [],
   "source": [
    "A = {1, 2, 4, 7, 8}\n",
    "B = {1, 2, 3, 5, 9, 8}\n",
    "\n",
    "print(A - B)\n",
    "print(A.difference(B))\n",
    "print(B - A)\n",
    "print(B.difference(A))"
   ]
  },
  {
   "cell_type": "markdown",
   "metadata": {},
   "source": [
    "### 4. Set Symmetric Difference\n",
    "The set *symmetric difference* is the set of all elements from A and B excluding elements that are common in both. The *symmetric difference* is performed using two ways:\n",
    "1. `^` operator,\n",
    "2. `symmetric_difference()` method."
   ]
  },
  {
   "cell_type": "code",
   "execution_count": 4,
   "metadata": {},
   "outputs": [
    {
     "name": "stdout",
     "output_type": "stream",
     "text": [
      "{3, 4, 5, 7, 9}\n",
      "{3, 4, 5, 7, 9}\n"
     ]
    }
   ],
   "source": [
    "print(A^B)\n",
    "print(A.symmetric_difference(B))"
   ]
  }
 ],
 "metadata": {
  "kernelspec": {
   "display_name": "Python 3",
   "language": "python",
   "name": "python3"
  },
  "language_info": {
   "codemirror_mode": {
    "name": "ipython",
    "version": 3
   },
   "file_extension": ".py",
   "mimetype": "text/x-python",
   "name": "python",
   "nbconvert_exporter": "python",
   "pygments_lexer": "ipython3",
   "version": "3.8.5"
  }
 },
 "nbformat": 4,
 "nbformat_minor": 4
}
